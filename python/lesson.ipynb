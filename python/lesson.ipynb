{
 "metadata": {
  "kernelspec": {
   "display_name": "Python 3.9.0 64-bit",
   "language": "python",
   "name": "python3"
  },
  "language_info": {
   "name": "python",
   "version": "3.9.0"
  },
  "orig_nbformat": 4,
  "vscode": {
   "interpreter": {
    "hash": "25dc1b90929fc4b7a28b03bbd39b83797b29d09279c64858499cf7b22932759d"
   }
  }
 },
 "nbformat": 4,
 "nbformat_minor": 2
}
